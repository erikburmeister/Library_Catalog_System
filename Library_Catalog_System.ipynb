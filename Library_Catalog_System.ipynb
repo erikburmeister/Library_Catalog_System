{
 "cells": [
  {
   "cell_type": "markdown",
   "metadata": {},
   "source": [
    "# Library Catalog System"
   ]
  },
  {
   "cell_type": "code",
   "execution_count": 1,
   "metadata": {},
   "outputs": [],
   "source": [
    "import csv\n",
    "import pandas as panda\n",
    "import string\n",
    "from random import choice "
   ]
  },
  {
   "cell_type": "code",
   "execution_count": 2,
   "metadata": {},
   "outputs": [],
   "source": [
    "# RRN setup\n"
   ]
  },
  {
   "cell_type": "code",
   "execution_count": 3,
   "metadata": {},
   "outputs": [],
   "source": [
    "RRN_TRACKER = 0"
   ]
  },
  {
   "cell_type": "code",
   "execution_count": 4,
   "metadata": {},
   "outputs": [],
   "source": [
    "def current_rrn(): # debug funcion\n",
    "    print(RRN_TRACKER)"
   ]
  },
  {
   "cell_type": "code",
   "execution_count": 5,
   "metadata": {},
   "outputs": [],
   "source": [
    "def update_rrn_tracker():\n",
    "    global RRN_TRACKER\n",
    "    RRN_TRACKER += 52"
   ]
  },
  {
   "cell_type": "code",
   "execution_count": 6,
   "metadata": {},
   "outputs": [],
   "source": [
    "def get_rrn():\n",
    "    global RRN_TRACKER\n",
    "    try: \n",
    "        csv_file = panda.read_csv(\"Library_Index_File.csv\")\n",
    "        \n",
    "        RRN_TRACKER = max(csv_file.reference_field)\n",
    "        update_rrn_tracker()\n",
    "        \n",
    "        return RRN_TRACKER\n",
    "    \n",
    "    except ValueError:\n",
    "        RRN_TRACKER = 0\n",
    "        return RRN_TRACKER"
   ]
  },
  {
   "cell_type": "code",
   "execution_count": 7,
   "metadata": {},
   "outputs": [],
   "source": [
    "# create/read files needed for the code\n"
   ]
  },
  {
   "cell_type": "code",
   "execution_count": 8,
   "metadata": {},
   "outputs": [],
   "source": [
    "def create_index_file():\n",
    "    with open(\"Library_Index_File.csv\", mode=\"w\") as csv_file:\n",
    "        field_names = [\"ISBN\", \"reference_field\"]\n",
    "        index_writer = csv.DictWriter(csv_file, fieldnames=field_names)\n",
    "        index_writer.writeheader()"
   ]
  },
  {
   "cell_type": "code",
   "execution_count": 9,
   "metadata": {},
   "outputs": [],
   "source": [
    "def index_directory():\n",
    "    csv_file =panda.read_csv(\n",
    "        \"Library_Index_File.csv\",\n",
    "        header=0,\n",
    "        names=[\"ISBN\", \"Reference Number\"],\n",
    "        usecols=[\"ISBN\", \"Reference Number\"],\n",
    "    )\n",
    "    print(csv_file)"
   ]
  },
  {
   "cell_type": "code",
   "execution_count": 10,
   "metadata": {},
   "outputs": [],
   "source": [
    "def read_index_file():\n",
    "    try: \n",
    "        csv_file =panda.read_csv(\"Library_Index_File.csv\")\n",
    "\n",
    "    except FileNotFoundError:\n",
    "        create_index_file()"
   ]
  },
  {
   "cell_type": "code",
   "execution_count": 11,
   "metadata": {},
   "outputs": [],
   "source": [
    "def sort_index_file():\n",
    "    csv_file = panda.read_csv(\"Library_Index_File.csv\")\n",
    "    csv_file.sort_values([\"ISBN\"], inplace=True)\n",
    "    csv_file.to_csv(\"Library_Index_File.csv\", encoding='utf-8', index=False)"
   ]
  },
  {
   "cell_type": "code",
   "execution_count": 12,
   "metadata": {},
   "outputs": [],
   "source": [
    "def create_data_file():\n",
    "    with open(\"Library_Data_File.txt\", \"w\") as file:\n",
    "        pass"
   ]
  },
  {
   "cell_type": "code",
   "execution_count": 13,
   "metadata": {},
   "outputs": [],
   "source": [
    "def read_data_file(): # debug funcion\n",
    "    try:\n",
    "        with open(\"Library_Data_File.txt\") as file:\n",
    "            \n",
    "            content = file.read()\n",
    "            \n",
    "#             print(content) # Debug\n",
    "#             print(\"\\nContent Length: \", len(content)) # Debug\n",
    "    \n",
    "    except FileNotFoundError:\n",
    "        create_data_file()"
   ]
  },
  {
   "cell_type": "code",
   "execution_count": 14,
   "metadata": {},
   "outputs": [],
   "source": [
    "def create_secondary_index_file():\n",
    "    with open(\"Library_Secondary_Index_File.csv\", mode=\"w\") as csv_file:\n",
    "        field_names = [\"secondary_key\", \"primary_key\"]\n",
    "        index_writer = csv.DictWriter(csv_file, fieldnames=field_names)\n",
    "        index_writer.writeheader()"
   ]
  },
  {
   "cell_type": "code",
   "execution_count": 15,
   "metadata": {},
   "outputs": [],
   "source": [
    "def secondary_directory():\n",
    "    csv_file =panda.read_csv(\n",
    "        \"Library_Secondary_Index_File.csv\",\n",
    "        header=0,\n",
    "        names=[\"Book Title\", \"ISBN\"],\n",
    "        usecols=[\"Book Title\", \"ISBN\"],\n",
    "    )\n",
    "    print(csv_file)"
   ]
  },
  {
   "cell_type": "code",
   "execution_count": 16,
   "metadata": {},
   "outputs": [],
   "source": [
    "def read_secondary_index_file():\n",
    "    try: \n",
    "        csv_file =panda.read_csv(\"Library_Secondary_Index_File.csv\")\n",
    "\n",
    "    except FileNotFoundError:\n",
    "        create_secondary_index_file()"
   ]
  },
  {
   "cell_type": "code",
   "execution_count": 17,
   "metadata": {},
   "outputs": [],
   "source": [
    "def sort_secondary_index_file():\n",
    "    csv_file = panda.read_csv(\"Library_Secondary_Index_File.csv\")\n",
    "    csv_file.sort_values([\"secondary_key\"], inplace=True)\n",
    "    csv_file.to_csv(\"Library_Secondary_Index_File.csv\", encoding='utf-8', index=False)"
   ]
  },
  {
   "cell_type": "code",
   "execution_count": 18,
   "metadata": {},
   "outputs": [],
   "source": [
    "def create_available_list_file():\n",
    "    with open(\"Library_Available_List_File.csv\", mode=\"w+\", newline=\"\") as csv_file:\n",
    "        field_names = [\"available_space\"]\n",
    "        index_writer = csv.DictWriter(csv_file, fieldnames=field_names)\n",
    "        index_writer.writeheader()"
   ]
  },
  {
   "cell_type": "code",
   "execution_count": 19,
   "metadata": {},
   "outputs": [],
   "source": [
    "def read_available_list_file():\n",
    "    try: \n",
    "        csv_file =panda.read_csv(\"Library_Available_List_File.csv\")\n",
    "#         print(csv_file) # Debug\n",
    "\n",
    "    except FileNotFoundError:\n",
    "        create_available_list_file()"
   ]
  },
  {
   "cell_type": "code",
   "execution_count": 20,
   "metadata": {},
   "outputs": [],
   "source": [
    "# backend functions\n"
   ]
  },
  {
   "cell_type": "code",
   "execution_count": 21,
   "metadata": {},
   "outputs": [],
   "source": [
    "def backend_setup():\n",
    "    read_index_file()\n",
    "    read_data_file()\n",
    "    read_secondary_index_file()\n",
    "    read_available_list_file()\n",
    "    get_rrn()"
   ]
  },
  {
   "cell_type": "code",
   "execution_count": 22,
   "metadata": {},
   "outputs": [],
   "source": [
    "def reset_files(): # debug funcion\n",
    "    create_index_file()\n",
    "    create_data_file()\n",
    "    create_secondary_index_file()\n",
    "    create_available_list_file()"
   ]
  },
  {
   "cell_type": "code",
   "execution_count": 23,
   "metadata": {},
   "outputs": [],
   "source": [
    "def add_to_index(record: list):\n",
    "    with open(\"Library_Index_File.csv\", mode=\"a+\", newline=\"\") as csv_file:\n",
    "        index_writer = csv.writer(csv_file)\n",
    "        index_writer.writerow(record)"
   ]
  },
  {
   "cell_type": "code",
   "execution_count": 24,
   "metadata": {},
   "outputs": [],
   "source": [
    "def add_to_data(record: str):\n",
    "    with open(\"Library_Data_File.txt\", mode=\"a+\") as file:\n",
    "        file.write(record)"
   ]
  },
  {
   "cell_type": "code",
   "execution_count": 25,
   "metadata": {},
   "outputs": [],
   "source": [
    "def append_to_data(record: str, reference: int):\n",
    "    with open(\"Library_Data_File.txt\", mode=\"r+\") as file_in:\n",
    "        content = file_in.read()\n",
    "        \n",
    "        part_1 = content[0:reference]\n",
    "        cut_part = content[reference:reference+52]\n",
    "        part_2 = content[reference+52:]\n",
    "        \n",
    "        new_content = part_1 + record + part_2\n",
    "\n",
    "        with open(\"Library_Data_File.txt\", mode=\"w+\") as file_out:\n",
    "            file_out.write(new_content)"
   ]
  },
  {
   "cell_type": "code",
   "execution_count": 26,
   "metadata": {},
   "outputs": [],
   "source": [
    "def add_to_secondary_index(record: list):\n",
    "    with open(\"Library_Secondary_Index_File.csv\", mode=\"a+\", newline=\"\") as csv_file:\n",
    "        index_writer = csv.writer(csv_file)\n",
    "        index_writer.writerow(record)"
   ]
  },
  {
   "cell_type": "code",
   "execution_count": 27,
   "metadata": {},
   "outputs": [],
   "source": [
    "def add_to_available_list(record: list):\n",
    "    with open(\"Library_Available_List_File.csv\", mode=\"a+\", newline=\"\") as csv_file:\n",
    "        index_writer = csv.writer(csv_file)\n",
    "        index_writer.writerow(record)"
   ]
  },
  {
   "cell_type": "code",
   "execution_count": 28,
   "metadata": {},
   "outputs": [],
   "source": [
    "def check_isbn(new_isbn):\n",
    "    csv_file =panda.read_csv(\"Library_Index_File.csv\")\n",
    "    isbn_list = list(csv_file.ISBN)\n",
    "\n",
    "    if new_isbn not in isbn_list:\n",
    "        return True\n",
    "    else:\n",
    "        return False"
   ]
  },
  {
   "cell_type": "code",
   "execution_count": 29,
   "metadata": {},
   "outputs": [],
   "source": [
    "def check_available_list():\n",
    "    try: \n",
    "        csv_file = panda.read_csv(\"Library_Available_List_File.csv\")\n",
    "        \n",
    "        open_space = min(csv_file.available_space)\n",
    "        return open_space\n",
    "\n",
    "    except ValueError:\n",
    "        return None"
   ]
  },
  {
   "cell_type": "code",
   "execution_count": 30,
   "metadata": {},
   "outputs": [],
   "source": [
    "def add_to_available_list(reference_number: list):\n",
    "    with open(\"Library_Available_List_File.csv\", mode=\"a+\", newline=\"\") as csv_file:\n",
    "        index_writer = csv.writer(csv_file)\n",
    "        index_writer.writerow(reference_number)"
   ]
  },
  {
   "cell_type": "code",
   "execution_count": 31,
   "metadata": {},
   "outputs": [],
   "source": [
    "def read_available_list(used_space: int):\n",
    "    \n",
    "    updated_list = []\n",
    "    exist_counter = 0\n",
    "    \n",
    "    with open(\"Library_Available_List_File.csv\", mode=\"r\") as csv_file_in:\n",
    "        \n",
    "        for row in csv.reader(csv_file_in):\n",
    "            if str(used_space) != row[0]:\n",
    "                updated_list.append(row)\n",
    "\n",
    "    return updated_list"
   ]
  },
  {
   "cell_type": "code",
   "execution_count": 32,
   "metadata": {},
   "outputs": [],
   "source": [
    "def update_available_list_file(updated_list: list):\n",
    "    with open(\"Library_Available_List_File.csv\", mode=\"w\", newline=\"\") as csv_file_out:\n",
    "        writer = csv.writer(csv_file_out)\n",
    "        writer.writerows(updated_list)"
   ]
  },
  {
   "cell_type": "code",
   "execution_count": 33,
   "metadata": {},
   "outputs": [],
   "source": [
    "# program functions\n"
   ]
  },
  {
   "cell_type": "code",
   "execution_count": 34,
   "metadata": {},
   "outputs": [],
   "source": [
    "def make_book():\n",
    "    \n",
    "    alphabet = list(string.ascii_uppercase)\n",
    "    random_letter = choice(alphabet)\n",
    "    \n",
    "    unique_status = False\n",
    "    while not unique_status:\n",
    "        \n",
    "        isbn = input(\"Enter isbn: \").upper()\n",
    "        isbn = isbn.zfill(6)\n",
    "        isbn = isbn[:6]\n",
    "        \n",
    "        unique_status = check_isbn(isbn)\n",
    "        \n",
    "        if unique_status == False:\n",
    "            print(\"ISBN already exists. Create a new one.\\n\")\n",
    "    \n",
    "    isbn = list(isbn)\n",
    "    isbn[0] = random_letter\n",
    "    isbn = \"\".join(isbn)\n",
    "\n",
    "    book_name = input(\"Enter book name: \").title()\n",
    "    book_name = book_name.ljust(22)[:22]\n",
    "\n",
    "    author_name = input(\"Enter author's name: \").title()\n",
    "    author_name = author_name.ljust(22)[:22]\n",
    "\n",
    "    record = f\"{isbn}|{book_name}|{author_name}\"\n",
    "    \n",
    "    return record"
   ]
  },
  {
   "cell_type": "code",
   "execution_count": 35,
   "metadata": {},
   "outputs": [],
   "source": [
    "def add():\n",
    "    index_rrn = []\n",
    "    title_index = []\n",
    "    record = \"\"\n",
    "    rrn = get_rrn()\n",
    "    available_space = check_available_list()\n",
    "    \n",
    "    print(\"\\nINSTRUCTIONS\")\n",
    "    print(\"Type in book information. Each record can only store 50 characters.\")\n",
    "    print(\"ISBNs can hold up to 6 characters (randomly assigned letter + 5 characters)\")\n",
    "    print(\"Book Name can hold up to 22 characters.\")\n",
    "    print(\"Author Name can hold up to 22 characters.\")\n",
    "    print(\"Any part of the record past the limit of characters will be cut off.\\n\")\n",
    "    \n",
    "    record = make_book()\n",
    "    \n",
    "    isbn = record[0:6]\n",
    "    book_name = record[7:29]\n",
    "    author_name = record[30:]\n",
    "    \n",
    "    if available_space:\n",
    "        rrn = available_space\n",
    "        update_available_list_file(read_available_list(rrn))\n",
    "    \n",
    "    index_rrn.append(isbn)\n",
    "    index_rrn.append(rrn)\n",
    "    \n",
    "    title_index.append(book_name)\n",
    "    title_index.append(isbn)\n",
    "    \n",
    "    if not available_space:\n",
    "        update_rrn_tracker()\n",
    "    \n",
    "    add_to_index(index_rrn)\n",
    "    sort_index_file()\n",
    "    \n",
    "    add_to_secondary_index(title_index)\n",
    "    sort_secondary_index_file()\n",
    "\n",
    "    if available_space:\n",
    "        append_to_data(record, rrn)\n",
    "    else:\n",
    "        add_to_data(record)\n",
    "    \n",
    "    print(\"\\nBook Added\")\n",
    "    print(\"ISBN: \" + isbn)\n",
    "    print(\"Book Title: \" + book_name)\n",
    "    print(\"Author: \" + author_name)"
   ]
  },
  {
   "cell_type": "code",
   "execution_count": 36,
   "metadata": {},
   "outputs": [],
   "source": [
    "def search_by_isbn(): \n",
    "    \n",
    "    search_by_isbn = input(\"Search by ISBN: \").upper()\n",
    "    results = []\n",
    "    reference_number = 0\n",
    "    end_of_record = 0\n",
    "    record = \"\"\n",
    "    \n",
    "    with open(\"Library_Index_File.csv\", mode=\"r\", newline=\"\") as csv_file:\n",
    "        index_reader = csv.reader(csv_file)\n",
    "        rows = index_reader\n",
    "\n",
    "        for row in rows:\n",
    "            if search_by_isbn == row[0]:\n",
    "                results.append(row)\n",
    "    \n",
    "    if len(results) == 0:\n",
    "        print(\"\\nNo results found!\")\n",
    "        \n",
    "    else:\n",
    "        reference_number = int(results[0][1])\n",
    "        end_of_record = (reference_number + 52)\n",
    "\n",
    "        with open(\"Library_Data_File.txt\") as file:\n",
    "                content = file.read()\n",
    "                record = content[reference_number:end_of_record]\n",
    "\n",
    "        print(\"\\nSearch Results:\")\n",
    "        print(record)\n",
    "        return record"
   ]
  },
  {
   "cell_type": "code",
   "execution_count": 37,
   "metadata": {},
   "outputs": [],
   "source": [
    "def search_by_title(): \n",
    "    \n",
    "    search_by_book_title = input(\"Search by book title: \").title()\n",
    "    title_results = []\n",
    "    index_results = []\n",
    "    reference_number = 0\n",
    "    end_of_record = 0\n",
    "    record = \"\"\n",
    "    \n",
    "    with open(\"Library_Secondary_Index_File.csv\", mode=\"r\", newline=\"\") as csv_file:\n",
    "        index_reader = csv.reader(csv_file)\n",
    "        rows = index_reader\n",
    "\n",
    "        for row in rows:\n",
    "            if search_by_book_title == row[0].strip():\n",
    "                title_results.append(row)\n",
    "    \n",
    "    if len(title_results) == 0:\n",
    "        print(\"\\nNo results found!\")\n",
    "        \n",
    "    else:\n",
    "        with open(\"Library_Index_File.csv\", mode=\"r\", newline=\"\") as csv_file:\n",
    "            index_reader = csv.reader(csv_file)\n",
    "            rows = index_reader\n",
    "\n",
    "            for row in rows:\n",
    "                if title_results[0][1] == row[0]:\n",
    "                    index_results.append(row)\n",
    "        \n",
    "        reference_number = int(index_results[0][1])\n",
    "        end_of_record = (reference_number + 52)\n",
    "\n",
    "        with open(\"Library_Data_File.txt\") as file:\n",
    "                content = file.read()\n",
    "                record = content[reference_number:end_of_record]\n",
    "\n",
    "        print(\"\\nSearch Results:\")\n",
    "        print(record)"
   ]
  },
  {
   "cell_type": "code",
   "execution_count": 38,
   "metadata": {},
   "outputs": [],
   "source": [
    "def update_file(updated_list_1: list, updated_list_2: list):\n",
    "    \n",
    "    with open(\"Library_Index_File.csv\", mode=\"w\", newline=\"\") as csv_file_out:\n",
    "        writer = csv.writer(csv_file_out)\n",
    "        writer.writerows(updated_list_1)\n",
    "        \n",
    "    with open(\"Library_Secondary_Index_File.csv\", mode=\"w\", newline=\"\") as csv_file_out:\n",
    "        writer = csv.writer(csv_file_out)\n",
    "        writer.writerows(updated_list_2)"
   ]
  },
  {
   "cell_type": "code",
   "execution_count": 39,
   "metadata": {},
   "outputs": [],
   "source": [
    "def delete():\n",
    "    \n",
    "    delete_isbn = input(\"Delete by ISBN: \").upper()\n",
    "    deleted_book = \"\"\n",
    "    updated_list_1 = []\n",
    "    updated_list_2 = []\n",
    "    available_list = []\n",
    "    exist_counter = 0\n",
    "    \n",
    "    unexistent_record = check_isbn(delete_isbn)\n",
    "    \n",
    "    if unexistent_record:\n",
    "        print(\"\\nA book with that ISBN does not exist.\")\n",
    "        return\n",
    "    \n",
    "    with open(\"Library_Index_File.csv\", mode=\"r\") as csv_file_in:\n",
    "        \n",
    "        for row in csv.reader(csv_file_in):\n",
    "            \n",
    "            if delete_isbn != row[0]:\n",
    "                updated_list_1.append(row)\n",
    "            else:\n",
    "                available_list.append(row[1])\n",
    "                exist_counter += 1\n",
    "                \n",
    "    with open(\"Library_Secondary_Index_File.csv\", mode=\"r\") as csv_file_in:\n",
    "        \n",
    "        for row in csv.reader(csv_file_in):\n",
    "            \n",
    "            if delete_isbn == row[1]:\n",
    "                deleted_book = row[0].strip()\n",
    "                \n",
    "            if delete_isbn != row[1]:\n",
    "                updated_list_2.append(row)\n",
    "            else:\n",
    "                exist_counter += 1\n",
    "            \n",
    "    if exist_counter:\n",
    "        print(f\"\\nBook with the ISBN '{delete_isbn}' has been deleted.\")\n",
    "        print(f\"The title of the book that was deleted is '{deleted_book}'.\")\n",
    "\n",
    "    add_to_available_list(available_list)\n",
    "    update_file(updated_list_1, updated_list_2)"
   ]
  },
  {
   "cell_type": "code",
   "execution_count": 40,
   "metadata": {},
   "outputs": [],
   "source": [
    "def index_directory_list():\n",
    "    csv_file =panda.read_csv(\"Library_Index_File.csv\")\n",
    "    isbn_list = list(csv_file.ISBN)\n",
    "    reference_list = list(csv_file.reference_field)\n",
    "    \n",
    "    complete_list = zip(isbn_list, reference_list)\n",
    "    \n",
    "    return list(complete_list)"
   ]
  },
  {
   "cell_type": "code",
   "execution_count": 41,
   "metadata": {},
   "outputs": [],
   "source": [
    "def new_index_and_secondary_list(isbn: str):\n",
    "    \n",
    "    deleted_book = \"\"\n",
    "    updated_list_1 = []\n",
    "    updated_list_2 = []\n",
    "    exist_counter = 0\n",
    "    \n",
    "    with open(\"Library_Index_File.csv\", mode=\"r\") as csv_file_in:\n",
    "        \n",
    "        for row in csv.reader(csv_file_in):\n",
    "            \n",
    "            if isbn != row[0]:\n",
    "                updated_list_1.append(row)\n",
    "            else:\n",
    "                exist_counter += 1\n",
    "                \n",
    "    with open(\"Library_Secondary_Index_File.csv\", mode=\"r\") as csv_file_in:\n",
    "        \n",
    "        for row in csv.reader(csv_file_in):\n",
    "            \n",
    "            if isbn == row[1]:\n",
    "                deleted_book = row[0].strip()\n",
    "                \n",
    "            if isbn != row[1]:\n",
    "                updated_list_2.append(row)\n",
    "            else:\n",
    "                exist_counter += 1\n",
    "    \n",
    "    update_file(updated_list_1, updated_list_2)"
   ]
  },
  {
   "cell_type": "code",
   "execution_count": 42,
   "metadata": {},
   "outputs": [],
   "source": [
    "def update_record():\n",
    "    \n",
    "    search = search_by_isbn()\n",
    "    \n",
    "    if search is None:\n",
    "        return\n",
    "    \n",
    "    isbn = search[0:6]\n",
    "    title = search[7:29]\n",
    "    reference = 0\n",
    "    \n",
    "    print(\"\\nModify Book Information\")\n",
    "    updated_book = make_book()\n",
    "    \n",
    "    new_isbn = updated_book[0:6]\n",
    "    new_title = updated_book[7:29]\n",
    "    new_author = updated_book[30:]\n",
    "    \n",
    "    print(\"\\nNew Book Information\")\n",
    "    print(\"Updated ISBN: \" + new_isbn)\n",
    "    print(\"Updated Book Title: \" + new_title)\n",
    "    print(\"Updated Author's Name: \" + new_author)\n",
    "    \n",
    "    directory = index_directory_list()\n",
    "    \n",
    "    for item in directory:\n",
    "        if item[0] == isbn:\n",
    "            reference = item[1]\n",
    "\n",
    "    isbn_rrn = [new_isbn, reference]\n",
    "    title_isbn = [new_title, new_isbn]\n",
    "    \n",
    "    new_index_and_secondary_list(isbn)\n",
    "    \n",
    "    add_to_index(isbn_rrn)\n",
    "    sort_index_file()\n",
    "    \n",
    "    add_to_secondary_index(title_isbn)\n",
    "    sort_secondary_index_file()\n",
    "    \n",
    "    append_to_data(updated_book, reference)"
   ]
  },
  {
   "cell_type": "code",
   "execution_count": 43,
   "metadata": {},
   "outputs": [],
   "source": [
    "# Full program\n"
   ]
  },
  {
   "cell_type": "code",
   "execution_count": 44,
   "metadata": {},
   "outputs": [],
   "source": [
    "def library_catalog_system():\n",
    "    \n",
    "    user_message = \"\\n'Add', 'Search', 'Directory', 'Edit', or 'Remove' a book from the catalog: \"\n",
    "    search_message = \"\\nSEARCH: Would you prefer to search by 'ISBN' or 'book title'? \"\n",
    "    directory_message = \"\\nDIRECTORY: Would you prefer to see the 'ISBN' or 'book title' directory? \"\n",
    "    \n",
    "    backend_setup()\n",
    "    \n",
    "    print(\"Welcome to the Library of Students Catalog System!\")\n",
    "    print(\"What would you like to do?\")\n",
    "    user_response = \"\"\n",
    "    search_response = \"\"\n",
    "    directory_response = \"\"\n",
    "    \n",
    "    while user_response != \"exit\":\n",
    "        \n",
    "        print(\"\\nReminder: type 'exit' when ready to quit.\")\n",
    "        user_response = input(user_message).lower()\n",
    "        \n",
    "        if user_response == \"exit\":\n",
    "            break\n",
    "        \n",
    "        if user_response == \"add\":\n",
    "            add()\n",
    "        elif user_response == \"search\":\n",
    "            \n",
    "            while search_response != \"back\":\n",
    "                \n",
    "                print(\"\\nReminder: type 'back' when ready to go back to the main menu.\")\n",
    "                search_response = input(search_message).lower()\n",
    "                \n",
    "                if search_response == \"back\":\n",
    "                    search_response = \"\"\n",
    "                    break\n",
    "                \n",
    "                if search_response == \"isbn\":\n",
    "                    search_by_isbn()\n",
    "                elif search_response == \"book title\" or search_response == \"title\":\n",
    "                    search_by_title()\n",
    "                else:\n",
    "                    print(\"Invalid response, try again.\\n\")\n",
    "                \n",
    "        elif user_response == \"directory\":\n",
    "            \n",
    "            while directory_response != \"back\":\n",
    "                \n",
    "                print(\"\\nReminder: type 'back' when ready to go back to the main menu.\")\n",
    "                directory_response = input(directory_message).lower()\n",
    "                \n",
    "                if directory_response == \"back\":\n",
    "                    directory_response = \"\"\n",
    "                    break\n",
    "                \n",
    "                if directory_response == \"isbn\":\n",
    "                    index_directory()\n",
    "                elif directory_response == \"book title\" or directory_response == \"title\":\n",
    "                    secondary_directory()\n",
    "                else:\n",
    "                    print(\"Invalid response, try again.\\n\")\n",
    "        \n",
    "        elif user_response == \"edit\":\n",
    "            print(\"\\nTo edit a record first find it using an ISBN.\")\n",
    "            update_record()\n",
    "            \n",
    "        elif user_response == \"remove\":\n",
    "            delete()\n",
    "            \n",
    "        else:\n",
    "            print(\"Invalid response, try again.\\n\")\n",
    "    \n",
    "    print(\"\\nThank you for using Library of Students Catalog System!\")"
   ]
  },
  {
   "cell_type": "code",
   "execution_count": 45,
   "metadata": {},
   "outputs": [
    {
     "name": "stdout",
     "output_type": "stream",
     "text": [
      "Welcome to the Library of Students Catalog System!\n",
      "What would you like to do?\n",
      "\n",
      "Reminder: type 'exit' when ready to quit.\n",
      "\n",
      "'Add', 'Search', 'Directory', 'Edit', or 'Remove' a book from the catalog: directory\n",
      "\n",
      "Reminder: type 'back' when ready to go back to the main menu.\n",
      "\n",
      "DIRECTORY: Would you prefer to see the 'ISBN' or 'book title' directory? isbn\n",
      "     ISBN  Reference Number\n",
      "0  A00066               416\n",
      "1  D00001                 0\n",
      "2  D00002                52\n",
      "3  D00005               156\n",
      "4  S00099               364\n",
      "5  G00006               208\n",
      "6  L00003               104\n",
      "7  T00022               312\n",
      "8  U00007               260\n",
      "\n",
      "Reminder: type 'back' when ready to go back to the main menu.\n",
      "\n",
      "DIRECTORY: Would you prefer to see the 'ISBN' or 'book title' directory? title\n",
      "               Book Title    ISBN\n",
      "0  An Edited Title         S00099\n",
      "1  Catching Fire           D00002\n",
      "2  Mockingjay              L00003\n",
      "3  Professional Idiot      A00066\n",
      "4  The Death Cure          U00007\n",
      "5  The Hunger Games        D00001\n",
      "6  The Maze Runner         D00005\n",
      "7  The Scorch Trials       G00006\n",
      "8  The Silent Patient      T00022\n",
      "\n",
      "Reminder: type 'back' when ready to go back to the main menu.\n",
      "\n",
      "DIRECTORY: Would you prefer to see the 'ISBN' or 'book title' directory? back\n",
      "\n",
      "Reminder: type 'exit' when ready to quit.\n",
      "\n",
      "'Add', 'Search', 'Directory', 'Edit', or 'Remove' a book from the catalog: exit\n",
      "\n",
      "Thank you for using Library of Students Catalog System!\n"
     ]
    }
   ],
   "source": [
    "if __name__ == \"__main__\":\n",
    "    library_catalog_system()"
   ]
  },
  {
   "cell_type": "code",
   "execution_count": null,
   "metadata": {},
   "outputs": [],
   "source": []
  }
 ],
 "metadata": {
  "kernelspec": {
   "display_name": "Python 3",
   "language": "python",
   "name": "python3"
  },
  "language_info": {
   "codemirror_mode": {
    "name": "ipython",
    "version": 3
   },
   "file_extension": ".py",
   "mimetype": "text/x-python",
   "name": "python",
   "nbconvert_exporter": "python",
   "pygments_lexer": "ipython3",
   "version": "3.7.4"
  }
 },
 "nbformat": 4,
 "nbformat_minor": 2
}
